{
 "cells": [
  {
   "cell_type": "code",
   "execution_count": 4,
   "metadata": {},
   "outputs": [
    {
     "name": "stdout",
     "output_type": "stream",
     "text": [
      "Requirement already satisfied: pip in c:\\users\\dibo\\appdata\\local\\programs\\python\\python311\\lib\\site-packages (23.2.1)\n",
      "Collecting pip\n",
      "  Obtaining dependency information for pip from https://files.pythonhosted.org/packages/8a/6a/19e9fe04fca059ccf770861c7d5721ab4c2aebc539889e97c7977528a53b/pip-24.0-py3-none-any.whl.metadata\n",
      "  Downloading pip-24.0-py3-none-any.whl.metadata (3.6 kB)\n",
      "Downloading pip-24.0-py3-none-any.whl (2.1 MB)\n",
      "   ---------------------------------------- 0.0/2.1 MB ? eta -:--:--\n",
      "   ---------------------------------------- 0.0/2.1 MB ? eta -:--:--\n",
      "   ---------------------------------------- 0.0/2.1 MB ? eta -:--:--\n",
      "   ---------------------------------------- 0.0/2.1 MB ? eta -:--:--\n",
      "    --------------------------------------- 0.0/2.1 MB 178.6 kB/s eta 0:00:12\n",
      "   - -------------------------------------- 0.1/2.1 MB 233.8 kB/s eta 0:00:09\n",
      "   --- ------------------------------------ 0.2/2.1 MB 490.7 kB/s eta 0:00:04\n",
      "   --- ------------------------------------ 0.2/2.1 MB 490.7 kB/s eta 0:00:04\n",
      "   --- ------------------------------------ 0.2/2.1 MB 471.4 kB/s eta 0:00:05\n",
      "   --- ------------------------------------ 0.2/2.1 MB 471.4 kB/s eta 0:00:05\n",
      "   ---- ----------------------------------- 0.2/2.1 MB 485.6 kB/s eta 0:00:04\n",
      "   ------ --------------------------------- 0.3/2.1 MB 561.6 kB/s eta 0:00:04\n",
      "   ------ --------------------------------- 0.3/2.1 MB 584.6 kB/s eta 0:00:04\n",
      "   ------ --------------------------------- 0.3/2.1 MB 584.6 kB/s eta 0:00:04\n",
      "   ------ --------------------------------- 0.4/2.1 MB 545.5 kB/s eta 0:00:04\n",
      "   ------ --------------------------------- 0.4/2.1 MB 545.5 kB/s eta 0:00:04\n",
      "   ------ --------------------------------- 0.4/2.1 MB 545.5 kB/s eta 0:00:04\n",
      "   ------ --------------------------------- 0.4/2.1 MB 545.5 kB/s eta 0:00:04\n",
      "   ------ --------------------------------- 0.4/2.1 MB 545.5 kB/s eta 0:00:04\n",
      "   ------ --------------------------------- 0.4/2.1 MB 545.5 kB/s eta 0:00:04\n",
      "   ------ --------------------------------- 0.4/2.1 MB 545.5 kB/s eta 0:00:04\n",
      "   ------ --------------------------------- 0.4/2.1 MB 545.5 kB/s eta 0:00:04\n",
      "   ------- -------------------------------- 0.4/2.1 MB 342.0 kB/s eta 0:00:06\n",
      "   ------- -------------------------------- 0.4/2.1 MB 336.3 kB/s eta 0:00:06\n",
      "   --------- ------------------------------ 0.5/2.1 MB 422.4 kB/s eta 0:00:04\n",
      "   ---------- ----------------------------- 0.5/2.1 MB 426.0 kB/s eta 0:00:04\n",
      "   ---------- ----------------------------- 0.5/2.1 MB 426.0 kB/s eta 0:00:04\n",
      "   ---------- ----------------------------- 0.5/2.1 MB 426.0 kB/s eta 0:00:04\n",
      "   ---------- ----------------------------- 0.5/2.1 MB 426.0 kB/s eta 0:00:04\n",
      "   ----------- ---------------------------- 0.6/2.1 MB 415.8 kB/s eta 0:00:04\n",
      "   ------------ --------------------------- 0.6/2.1 MB 427.5 kB/s eta 0:00:04\n",
      "   ------------ --------------------------- 0.7/2.1 MB 430.3 kB/s eta 0:00:04\n",
      "   ------------- -------------------------- 0.7/2.1 MB 432.5 kB/s eta 0:00:04\n",
      "   ------------- -------------------------- 0.7/2.1 MB 443.0 kB/s eta 0:00:04\n",
      "   --------------- ------------------------ 0.8/2.1 MB 473.2 kB/s eta 0:00:03\n",
      "   ---------------- ----------------------- 0.9/2.1 MB 495.8 kB/s eta 0:00:03\n",
      "   ----------------- ---------------------- 0.9/2.1 MB 499.9 kB/s eta 0:00:03\n",
      "   ----------------- ---------------------- 0.9/2.1 MB 509.8 kB/s eta 0:00:03\n",
      "   ------------------- -------------------- 1.0/2.1 MB 531.6 kB/s eta 0:00:03\n",
      "   -------------------- ------------------- 1.1/2.1 MB 554.8 kB/s eta 0:00:02\n",
      "   -------------------- ------------------- 1.1/2.1 MB 554.8 kB/s eta 0:00:02\n",
      "   -------------------- ------------------- 1.1/2.1 MB 554.8 kB/s eta 0:00:02\n",
      "   -------------------- ------------------- 1.1/2.1 MB 554.8 kB/s eta 0:00:02\n",
      "   -------------------- ------------------- 1.1/2.1 MB 554.8 kB/s eta 0:00:02\n",
      "   --------------------- ------------------ 1.1/2.1 MB 514.8 kB/s eta 0:00:02\n",
      "   ---------------------- ----------------- 1.2/2.1 MB 526.9 kB/s eta 0:00:02\n",
      "   ----------------------- ---------------- 1.2/2.1 MB 534.0 kB/s eta 0:00:02\n",
      "   ----------------------- ---------------- 1.2/2.1 MB 539.4 kB/s eta 0:00:02\n",
      "   ------------------------ --------------- 1.3/2.1 MB 538.0 kB/s eta 0:00:02\n",
      "   ------------------------ --------------- 1.3/2.1 MB 540.3 kB/s eta 0:00:02\n",
      "   ------------------------- -------------- 1.4/2.1 MB 546.9 kB/s eta 0:00:02\n",
      "   -------------------------- ------------- 1.4/2.1 MB 549.4 kB/s eta 0:00:02\n",
      "   --------------------------- ------------ 1.5/2.1 MB 567.3 kB/s eta 0:00:02\n",
      "   ---------------------------- ----------- 1.5/2.1 MB 580.3 kB/s eta 0:00:02\n",
      "   ---------------------------- ----------- 1.5/2.1 MB 580.3 kB/s eta 0:00:02\n",
      "   ---------------------------- ----------- 1.5/2.1 MB 580.3 kB/s eta 0:00:02\n",
      "   ---------------------------- ----------- 1.5/2.1 MB 580.3 kB/s eta 0:00:02\n",
      "   ---------------------------- ----------- 1.5/2.1 MB 580.3 kB/s eta 0:00:02\n",
      "   ---------------------------- ----------- 1.5/2.1 MB 580.3 kB/s eta 0:00:02\n",
      "   ---------------------------- ----------- 1.5/2.1 MB 580.3 kB/s eta 0:00:02\n",
      "   ---------------------------- ----------- 1.5/2.1 MB 580.3 kB/s eta 0:00:02\n",
      "   ---------------------------- ----------- 1.5/2.1 MB 580.3 kB/s eta 0:00:02\n",
      "   ---------------------------- ----------- 1.5/2.1 MB 499.8 kB/s eta 0:00:02\n",
      "   ---------------------------- ----------- 1.5/2.1 MB 499.8 kB/s eta 0:00:02\n",
      "   ---------------------------- ----------- 1.5/2.1 MB 499.8 kB/s eta 0:00:02\n",
      "   ---------------------------- ----------- 1.5/2.1 MB 499.8 kB/s eta 0:00:02\n",
      "   ------------------------------ --------- 1.6/2.1 MB 497.0 kB/s eta 0:00:01\n",
      "   -------------------------------- ------- 1.7/2.1 MB 519.9 kB/s eta 0:00:01\n",
      "   -------------------------------- ------- 1.7/2.1 MB 516.9 kB/s eta 0:00:01\n",
      "   -------------------------------- ------- 1.7/2.1 MB 516.9 kB/s eta 0:00:01\n",
      "   -------------------------------- ------- 1.7/2.1 MB 516.9 kB/s eta 0:00:01\n",
      "   --------------------------------- ------ 1.8/2.1 MB 504.1 kB/s eta 0:00:01\n",
      "   --------------------------------- ------ 1.8/2.1 MB 503.8 kB/s eta 0:00:01\n",
      "   ---------------------------------- ----- 1.8/2.1 MB 503.7 kB/s eta 0:00:01\n",
      "   ---------------------------------- ----- 1.8/2.1 MB 504.9 kB/s eta 0:00:01\n",
      "   ----------------------------------- ---- 1.9/2.1 MB 512.4 kB/s eta 0:00:01\n",
      "   ----------------------------------- ---- 1.9/2.1 MB 513.1 kB/s eta 0:00:01\n",
      "   ----------------------------------- ---- 1.9/2.1 MB 513.1 kB/s eta 0:00:01\n",
      "   ------------------------------------ --- 1.9/2.1 MB 507.6 kB/s eta 0:00:01\n",
      "   ---------------------------------------  2.1/2.1 MB 530.6 kB/s eta 0:00:01\n",
      "   ---------------------------------------- 2.1/2.1 MB 539.7 kB/s eta 0:00:00\n",
      "Installing collected packages: pip\n",
      "  Attempting uninstall: pip\n",
      "    Found existing installation: pip 23.2.1\n",
      "    Uninstalling pip-23.2.1:\n",
      "      Successfully uninstalled pip-23.2.1\n",
      "Successfully installed pip-24.0\n"
     ]
    },
    {
     "name": "stderr",
     "output_type": "stream",
     "text": [
      "  WARNING: The scripts pip.exe, pip3.11.exe and pip3.exe are installed in 'c:\\Users\\dibo\\AppData\\Local\\Programs\\Python\\Python311\\Scripts' which is not on PATH.\n",
      "  Consider adding this directory to PATH or, if you prefer to suppress this warning, use --no-warn-script-location.\n"
     ]
    }
   ],
   "source": [
    "!python -m pip install --upgrade pip"
   ]
  },
  {
   "cell_type": "code",
   "execution_count": 6,
   "metadata": {},
   "outputs": [
    {
     "name": "stdout",
     "output_type": "stream",
     "text": [
      "Requirement already satisfied: pandas in c:\\users\\dibo\\appdata\\local\\programs\\python\\python311\\lib\\site-packages (2.2.2)\n",
      "Requirement already satisfied: numpy>=1.23.2 in c:\\users\\dibo\\appdata\\local\\programs\\python\\python311\\lib\\site-packages (from pandas) (1.26.4)\n",
      "Requirement already satisfied: python-dateutil>=2.8.2 in c:\\users\\dibo\\appdata\\roaming\\python\\python311\\site-packages (from pandas) (2.9.0.post0)\n",
      "Requirement already satisfied: pytz>=2020.1 in c:\\users\\dibo\\appdata\\local\\programs\\python\\python311\\lib\\site-packages (from pandas) (2024.1)\n",
      "Requirement already satisfied: tzdata>=2022.7 in c:\\users\\dibo\\appdata\\local\\programs\\python\\python311\\lib\\site-packages (from pandas) (2024.1)\n",
      "Requirement already satisfied: six>=1.5 in c:\\users\\dibo\\appdata\\roaming\\python\\python311\\site-packages (from python-dateutil>=2.8.2->pandas) (1.16.0)\n",
      "Note: you may need to restart the kernel to use updated packages.\n",
      "Note: you may need to restart the kernel to use updated packages.\n"
     ]
    },
    {
     "name": "stderr",
     "output_type": "stream",
     "text": [
      "ERROR: Could not find a version that satisfies the requirement zipfile (from versions: none)\n",
      "ERROR: No matching distribution found for zipfile\n"
     ]
    },
    {
     "name": "stdout",
     "output_type": "stream",
     "text": [
      "Requirement already satisfied: kaggle in c:\\users\\dibo\\appdata\\local\\programs\\python\\python311\\lib\\site-packages (1.6.14)\n",
      "Requirement already satisfied: six>=1.10 in c:\\users\\dibo\\appdata\\roaming\\python\\python311\\site-packages (from kaggle) (1.16.0)\n",
      "Requirement already satisfied: certifi>=2023.7.22 in c:\\users\\dibo\\appdata\\local\\programs\\python\\python311\\lib\\site-packages (from kaggle) (2023.7.22)\n",
      "Requirement already satisfied: python-dateutil in c:\\users\\dibo\\appdata\\roaming\\python\\python311\\site-packages (from kaggle) (2.9.0.post0)\n",
      "Requirement already satisfied: requests in c:\\users\\dibo\\appdata\\local\\programs\\python\\python311\\lib\\site-packages (from kaggle) (2.32.3)\n",
      "Requirement already satisfied: tqdm in c:\\users\\dibo\\appdata\\local\\programs\\python\\python311\\lib\\site-packages (from kaggle) (4.66.4)\n",
      "Requirement already satisfied: python-slugify in c:\\users\\dibo\\appdata\\local\\programs\\python\\python311\\lib\\site-packages (from kaggle) (8.0.4)\n",
      "Requirement already satisfied: urllib3 in c:\\users\\dibo\\appdata\\local\\programs\\python\\python311\\lib\\site-packages (from kaggle) (2.0.4)\n",
      "Requirement already satisfied: bleach in c:\\users\\dibo\\appdata\\local\\programs\\python\\python311\\lib\\site-packages (from kaggle) (6.1.0)\n",
      "Requirement already satisfied: webencodings in c:\\users\\dibo\\appdata\\local\\programs\\python\\python311\\lib\\site-packages (from bleach->kaggle) (0.5.1)\n",
      "Requirement already satisfied: text-unidecode>=1.3 in c:\\users\\dibo\\appdata\\local\\programs\\python\\python311\\lib\\site-packages (from python-slugify->kaggle) (1.3)\n",
      "Requirement already satisfied: charset-normalizer<4,>=2 in c:\\users\\dibo\\appdata\\local\\programs\\python\\python311\\lib\\site-packages (from requests->kaggle) (3.2.0)\n",
      "Requirement already satisfied: idna<4,>=2.5 in c:\\users\\dibo\\appdata\\local\\programs\\python\\python311\\lib\\site-packages (from requests->kaggle) (3.4)\n",
      "Requirement already satisfied: colorama in c:\\users\\dibo\\appdata\\roaming\\python\\python311\\site-packages (from tqdm->kaggle) (0.4.6)\n",
      "Note: you may need to restart the kernel to use updated packages.\n"
     ]
    },
    {
     "ename": "OSError",
     "evalue": "Could not find kaggle.json. Make sure it's located in C:\\Users\\dibo\\.kaggle. Or use the environment method.",
     "output_type": "error",
     "traceback": [
      "\u001b[1;31m---------------------------------------------------------------------------\u001b[0m",
      "\u001b[1;31mOSError\u001b[0m                                   Traceback (most recent call last)",
      "Cell \u001b[1;32mIn[6], line 13\u001b[0m\n\u001b[0;32m     10\u001b[0m \u001b[38;5;28;01mimport\u001b[39;00m \u001b[38;5;21;01mzipfile\u001b[39;00m\n\u001b[0;32m     12\u001b[0m \u001b[38;5;66;03m# import kaggle library ( to download the dataset programatically from Kaggle)\u001b[39;00m\n\u001b[1;32m---> 13\u001b[0m \u001b[38;5;28;01mimport\u001b[39;00m \u001b[38;5;21;01mkaggle\u001b[39;00m\n",
      "File \u001b[1;32mc:\\Users\\dibo\\AppData\\Local\\Programs\\Python\\Python311\\Lib\\site-packages\\kaggle\\__init__.py:7\u001b[0m\n\u001b[0;32m      4\u001b[0m \u001b[38;5;28;01mfrom\u001b[39;00m \u001b[38;5;21;01mkaggle\u001b[39;00m\u001b[38;5;21;01m.\u001b[39;00m\u001b[38;5;21;01mapi_client\u001b[39;00m \u001b[38;5;28;01mimport\u001b[39;00m ApiClient\n\u001b[0;32m      6\u001b[0m api \u001b[38;5;241m=\u001b[39m KaggleApi(ApiClient())\n\u001b[1;32m----> 7\u001b[0m \u001b[43mapi\u001b[49m\u001b[38;5;241;43m.\u001b[39;49m\u001b[43mauthenticate\u001b[49m\u001b[43m(\u001b[49m\u001b[43m)\u001b[49m\n",
      "File \u001b[1;32mc:\\Users\\dibo\\AppData\\Local\\Programs\\Python\\Python311\\Lib\\site-packages\\kaggle\\api\\kaggle_api_extended.py:398\u001b[0m, in \u001b[0;36mKaggleApi.authenticate\u001b[1;34m(self)\u001b[0m\n\u001b[0;32m    396\u001b[0m         \u001b[38;5;28;01mreturn\u001b[39;00m\n\u001b[0;32m    397\u001b[0m     \u001b[38;5;28;01melse\u001b[39;00m:\n\u001b[1;32m--> 398\u001b[0m         \u001b[38;5;28;01mraise\u001b[39;00m \u001b[38;5;167;01mIOError\u001b[39;00m(\u001b[38;5;124m'\u001b[39m\u001b[38;5;124mCould not find \u001b[39m\u001b[38;5;132;01m{}\u001b[39;00m\u001b[38;5;124m. Make sure it\u001b[39m\u001b[38;5;130;01m\\'\u001b[39;00m\u001b[38;5;124ms located in\u001b[39m\u001b[38;5;124m'\u001b[39m\n\u001b[0;32m    399\u001b[0m                       \u001b[38;5;124m'\u001b[39m\u001b[38;5;124m \u001b[39m\u001b[38;5;132;01m{}\u001b[39;00m\u001b[38;5;124m. Or use the environment method.\u001b[39m\u001b[38;5;124m'\u001b[39m\u001b[38;5;241m.\u001b[39mformat(\n\u001b[0;32m    400\u001b[0m                           \u001b[38;5;28mself\u001b[39m\u001b[38;5;241m.\u001b[39mconfig_file, \u001b[38;5;28mself\u001b[39m\u001b[38;5;241m.\u001b[39mconfig_dir))\n\u001b[0;32m    402\u001b[0m \u001b[38;5;66;03m# Step 3: load into configuration!\u001b[39;00m\n\u001b[0;32m    403\u001b[0m \u001b[38;5;28mself\u001b[39m\u001b[38;5;241m.\u001b[39m_load_config(config_data)\n",
      "\u001b[1;31mOSError\u001b[0m: Could not find kaggle.json. Make sure it's located in C:\\Users\\dibo\\.kaggle. Or use the environment method."
     ]
    }
   ],
   "source": [
    "# Uncomment the pip install code below if you haven't installed these libraries yet\n",
    "%pip install pandas\n",
    "%pip install zipfile\n",
    "%pip install kaggle\n",
    "\n",
    "# import the pandas library\n",
    "import pandas as pd\n",
    "\n",
    "# import zipfile library (to extract the file downloaded from Kaggle)\n",
    "import zipfile\n",
    "\n",
    "# import kaggle library ( to download the dataset programatically from Kaggle)\n",
    "import kaggle"
   ]
  }
 ],
 "metadata": {
  "kernelspec": {
   "display_name": "Python 3",
   "language": "python",
   "name": "python3"
  },
  "language_info": {
   "codemirror_mode": {
    "name": "ipython",
    "version": 3
   },
   "file_extension": ".py",
   "mimetype": "text/x-python",
   "name": "python",
   "nbconvert_exporter": "python",
   "pygments_lexer": "ipython3",
   "version": "3.11.4"
  }
 },
 "nbformat": 4,
 "nbformat_minor": 2
}
